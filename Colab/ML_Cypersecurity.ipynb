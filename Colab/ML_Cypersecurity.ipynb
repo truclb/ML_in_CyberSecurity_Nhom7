{
  "cells": [
    {
      "cell_type": "code",
      "execution_count": null,
      "metadata": {
        "colab": {
          "base_uri": "https://localhost:8080/"
        },
        "id": "ZlhuXoxQS1Un",
        "outputId": "f76b9193-5e37-4c0d-d938-21d74222f986"
      },
      "outputs": [
        {
          "name": "stdout",
          "output_type": "stream",
          "text": [
            "Mounted at /content/drive\n"
          ]
        }
      ],
      "source": [
        "# Connect Driver\n",
        "from google.colab import drive\n",
        "drive.mount('/content/drive')"
      ]
    },
    {
      "cell_type": "code",
      "execution_count": null,
      "metadata": {
        "id": "_Y8L3DlUTGuf"
      },
      "outputs": [],
      "source": [
        "# import libraries\n",
        "from pyarrow import csv\n",
        "import pyarrow.parquet as pq\n",
        "import glob\n",
        "import pandas as pd\n",
        "import numpy as np\n",
        "import sys\n",
        "import sklearn\n",
        "import io\n",
        "import random\n",
        "import matplotlib.pyplot as plt\n",
        "from keras.layers import Convolution1D, Dense, Dropout, Flatten, MaxPooling1D, GRU\n",
        "from sklearn.preprocessing import MinMaxScaler, StandardScaler, LabelEncoder, Normalizer\n",
        "from sklearn.metrics import accuracy_score, classification_report, confusion_matrix, roc_auc_score, precision_recall_curve, auc, average_precision_score, f1_score\n",
        "from sklearn.model_selection import train_test_split # Corrected import statement\n"
      ]
    },
    {
      "cell_type": "markdown",
      "metadata": {
        "id": "dW5tBDyyrWSF"
      },
      "source": [
        "#Đọc file và chia tỉ lệ\n",
        "Không sử dụng\n"
      ]
    },
    {
      "cell_type": "code",
      "execution_count": null,
      "metadata": {
        "id": "hb8TF8rbLUs1"
      },
      "outputs": [],
      "source": [
        "data = pd.read_csv(\"/content/drive/MyDrive/MLinCybersecurity/train.csv\")"
      ]
    },
    {
      "cell_type": "code",
      "execution_count": null,
      "metadata": {
        "colab": {
          "base_uri": "https://localhost:8080/"
        },
        "id": "b89koY9FwxOV",
        "outputId": "7b58ab42-5c2a-4361-dbd4-6e9a3e63f91b"
      },
      "outputs": [
        {
          "name": "stdout",
          "output_type": "stream",
          "text": [
            "Số lượng giá trị duy nhất trong cột 'label': 34\n"
          ]
        }
      ],
      "source": [
        "# Đếm số lượng giá trị duy nhất trong cột 'label'\n",
        "unique_label_count = data['Label'].nunique()\n",
        "\n",
        "print(f\"Số lượng giá trị duy nhất trong cột 'label': {unique_label_count}\")"
      ]
    },
    {
      "cell_type": "code",
      "execution_count": null,
      "metadata": {
        "colab": {
          "base_uri": "https://localhost:8080/"
        },
        "id": "UsX2mh6QMW_u",
        "outputId": "13bd27e7-240d-41fd-e1f9-517cd07005a8"
      },
      "outputs": [
        {
          "name": "stdout",
          "output_type": "stream",
          "text": [
            "Label\n",
            "MITM-ArpSpoofing           0.043207\n",
            "DDoS-TCP_Flood             0.043182\n",
            "Recon-HostDiscovery        0.043146\n",
            "DoS-UDP_Flood              0.043146\n",
            "DDoS-ICMP_Fragmentation    0.043135\n",
            "BenignTraffic              0.043120\n",
            "DoS-TCP_Flood              0.043120\n",
            "Mirai-greip_flood          0.043099\n",
            "DDoS-SYN_Flood             0.043099\n",
            "DDoS-PSHACK_Flood          0.043099\n",
            "DDoS-ACK_Fragmentation     0.043084\n",
            "Mirai-greeth_flood         0.043084\n",
            "DDoS-SynonymousIP_Flood    0.043084\n",
            "DoS-SYN_Flood              0.043058\n",
            "DDoS-RSTFINFlood           0.043048\n",
            "DDoS-UDP_Flood             0.043023\n",
            "DDoS-UDP_Fragmentation     0.043017\n",
            "DNS_Spoofing               0.042946\n",
            "Mirai-udpplain             0.042894\n",
            "DDoS-ICMP_Flood            0.042864\n",
            "Recon-OSScan               0.035690\n",
            "Recon-PortScan             0.029900\n",
            "DoS-HTTP_Flood             0.025962\n",
            "VulnerabilityScan          0.013527\n",
            "DDoS-HTTP_Flood            0.010430\n",
            "DDoS-SlowLoris             0.008497\n",
            "DictionaryBruteForce       0.004723\n",
            "BrowserHijacking           0.002118\n",
            "CommandInjection           0.001959\n",
            "SqlInjection               0.001923\n",
            "XSS                        0.001379\n",
            "Backdoor_Malware           0.001154\n",
            "Recon-PingSweep            0.000836\n",
            "Uploading_Attack           0.000446\n",
            "Name: proportion, dtype: float64\n"
          ]
        }
      ],
      "source": [
        "#data.info()\n",
        "# Tính tỷ lệ các giá trị\n",
        "ratios = data[\"Label\"].value_counts(normalize=True)\n",
        "print(ratios)"
      ]
    },
    {
      "cell_type": "code",
      "execution_count": null,
      "metadata": {
        "id": "XUpHNnCQMQGX"
      },
      "outputs": [],
      "source": [
        "data_50, data_50_1  = train_test_split(\n",
        "    data,\n",
        "    test_size=0.5,  # 10% cho tập test\n",
        "    stratify=data['Label'],  # Chia theo cột 'target'\n",
        "    random_state=45  # Đảm bảo kết quả nhất quán\n",
        ")\n",
        "data_50.to_csv('train_data_50.csv', index=False,header=True)"
      ]
    },
    {
      "cell_type": "markdown",
      "metadata": {
        "id": "hWmIUElFrZd9"
      },
      "source": [
        "#Đọc file_Train"
      ]
    },
    {
      "cell_type": "code",
      "execution_count": null,
      "metadata": {
        "id": "fHAOo1diTY5b"
      },
      "outputs": [],
      "source": [
        "CSV_HEADER =[ \"ID\", \"flow_duration\", \"Header_Length\", \"Protocol type\", \"Duration\", \"Rate\", \"Srate\", \"Drate\", \"fin_flag_number\",\n",
        "    \"syn_flag_number\", \"rst_flag_number\", \"psh_flag_number\", \"ack_flag_number\", \"ece_flag_number\", \"cwr_flag_number\",\n",
        "    \"ack_count\", \"syn_count\", \"fin_count\", \"urg_count\", \"rst_count\", \"HTTP\", \"HTTPS\", \"DNS\", \"Telnet\", \"SMTP\", \"SSH\", \"IRC\", \"TCP\",\n",
        "    \"UDP\", \"DHCP\", \"ARP\", \"ICMP\", \"IPv\", \"LLC\", \"Tot sum\", \"Min\", \"Max\", \"AVG\", \"Std\", \"Tot size\", \"IAT\", \"Number\", \"Magnitue\",\n",
        "    \"Radius\", \"Covariance\", \"Variance\", \"Weight\"] # drop column ID\n",
        "\n",
        "CSV_HEADER_WITH_LABEL = [ \"ID\", \"flow_duration\", \"Header_Length\", \"Protocol type\", \"Duration\", \"Rate\", \"Srate\", \"Drate\", \"fin_flag_number\",\n",
        "    \"syn_flag_number\", \"rst_flag_number\", \"psh_flag_number\", \"ack_flag_number\", \"ece_flag_number\", \"cwr_flag_number\",\n",
        "    \"ack_count\", \"syn_count\", \"fin_count\", \"urg_count\", \"rst_count\", \"HTTP\", \"HTTPS\", \"DNS\", \"Telnet\", \"SMTP\", \"SSH\", \"IRC\", \"TCP\",\n",
        "    \"UDP\", \"DHCP\", \"ARP\", \"ICMP\", \"IPv\", \"LLC\", \"Tot sum\", \"Min\", \"Max\", \"AVG\", \"Std\", \"Tot size\", \"IAT\", \"Number\", \"Magnitue\",\n",
        "    \"Radius\", \"Covariance\", \"Variance\", \"Weight\", \"Label\" ] #drop column ID"
      ]
    },
    {
      "cell_type": "markdown",
      "metadata": {
        "id": "0QW26GcWRlkm"
      },
      "source": [
        "#Preprogressing Dataset\n"
      ]
    },
    {
      "cell_type": "markdown",
      "metadata": {
        "id": "SIE6CWPFqewG"
      },
      "source": [
        "##Xử lý tập Train"
      ]
    },
    {
      "cell_type": "code",
      "execution_count": null,
      "metadata": {
        "colab": {
          "base_uri": "https://localhost:8080/"
        },
        "id": "DUCnHLCGuXas",
        "outputId": "6e3288b5-7400-4d84-bb42-1a4fd61ae259"
      },
      "outputs": [
        {
          "name": "stdout",
          "output_type": "stream",
          "text": [
            "48\n"
          ]
        }
      ],
      "source": [
        "#data = pd.read_csv(\"/content/drive/MyDrive/MLinCybersecurity/train_data_10.csv\")\n",
        "print(data.shape[1])\n",
        "data = pd.read_csv(\"/content/train_data_50.csv\")"
      ]
    },
    {
      "cell_type": "code",
      "execution_count": null,
      "metadata": {
        "id": "QcQAqyuMwKYD"
      },
      "outputs": [],
      "source": []
    },
    {
      "cell_type": "code",
      "execution_count": null,
      "metadata": {
        "id": "UGzw874wRiTv"
      },
      "outputs": [],
      "source": [
        "from sklearn.model_selection import train_test_split\n",
        "from sklearn.preprocessing import LabelEncoder, StandardScaler\n",
        "\n",
        "#data = pd.read_csv(\"/content/drive/MyDrive/MLinCybersecurity/train_data_10.csv\")\n",
        "data = pd.read_csv(\"/content/drive/MyDrive/MLinCybersecurity/train.csv\")\n",
        "\n",
        "# 1. Loại bỏ các hàng chứa giá trị NaN hoặc điền giá trị trung bình\n",
        "data_cleaned = data.fillna(0)  # Hoặc .dropna()\n",
        "\n",
        "\n",
        "# 2. Mã hóa cột 'Label' (target)\n",
        "label_encoder = LabelEncoder() # Initialize LabelEncoder\n",
        "data_cleaned['Label'] = label_encoder.fit_transform(data_cleaned['Label'])\n",
        "num_classes = len(label_encoder.classes_)\n",
        "target_strings = label_encoder.inverse_transform(np.arange(num_classes))\n",
        "\n",
        "\n",
        "# 3. Chia thành X (features) và y (label)\n",
        "X = data_cleaned.drop(columns=['ID', 'Label'])  # Bỏ cột không cần thiết\n",
        "y = data_cleaned['Label']\n",
        "\n",
        "# 4. Chuẩn hóa dữ liệu (StandardScaler)\n",
        "scaler = StandardScaler()\n",
        "X_scale = scaler.fit_transform(X)\n",
        "X_train, X_test, y_train, y_test = train_test_split(X_scale, y, test_size=0.1, random_state=43)"
      ]
    },
    {
      "cell_type": "markdown",
      "metadata": {
        "id": "ted_ieIJqg22"
      },
      "source": [
        "## Xử lý tập test\n",
        "-- TẬP TEST HIỆN TẠI KHÔNG CÓ NHÃN LABEL"
      ]
    },
    {
      "cell_type": "code",
      "execution_count": null,
      "metadata": {
        "id": "VX0J-d2susfh"
      },
      "outputs": [],
      "source": [
        "data_test.info()"
      ]
    },
    {
      "cell_type": "code",
      "execution_count": null,
      "metadata": {
        "id": "frWDHrucqrFk"
      },
      "outputs": [],
      "source": [
        "data_test = pd.read_csv(\"/content/drive/MyDrive/MLinCybersecurity/test.csv\")\n",
        "# 1. Loại bỏ các hàng chứa giá trị NaN hoặc điền giá trị trung bình\n",
        "data_cleaned_test = data_test.fillna(0)  # Hoặc .dropna()\n",
        "\n",
        "# 2. Mã hóa cột 'Label' (target)\n",
        "label_encoder = LabelEncoder() # Initialize LabelEncoder\n",
        "data_cleaned_test['Label'] = label_encoder.fit_transform(data_cleaned_test['Label'])\n",
        "target_strings = label_encoder.inverse_transform(np.arange(num_classes))\n",
        "\n",
        "\n",
        "# 3. Chia thành X (features) và y (label)\n",
        "X_t = data_cleaned_test.drop(columns=['ID', 'Label'])  # Bỏ cột không cần thiết\n",
        "y_test = data_cleaned_test['Label']\n",
        "\n",
        "# 4. Chuẩn hóa dữ liệu (StandardScaler)\n",
        "scaler = StandardScaler()\n",
        "X_test = scaler.fit_transform(X_t)\n"
      ]
    },
    {
      "cell_type": "markdown",
      "metadata": {
        "id": "RVCYK897SaC_"
      },
      "source": [
        "#MODEL TRAIN AND TEST"
      ]
    },
    {
      "cell_type": "markdown",
      "metadata": {
        "id": "ql3pwLifiM14"
      },
      "source": [
        "##RANDOMFOREST TRAIN"
      ]
    },
    {
      "cell_type": "markdown",
      "metadata": {
        "id": "hpPDCrj7wNkw"
      },
      "source": [
        "Import các thư viện của RandomForest"
      ]
    },
    {
      "cell_type": "code",
      "execution_count": null,
      "metadata": {
        "id": "wLbMOrdHwLyA"
      },
      "outputs": [],
      "source": [
        "from sklearn.ensemble import RandomForestClassifier\n",
        "from sklearn.metrics import classification_report\n",
        "import joblib"
      ]
    },
    {
      "cell_type": "markdown",
      "metadata": {
        "id": "pQ3PRVpewRQA"
      },
      "source": [
        "Train model và lưu dạng Joblib"
      ]
    },
    {
      "cell_type": "code",
      "execution_count": null,
      "metadata": {
        "id": "i-2QrdEdTpjF"
      },
      "outputs": [],
      "source": [
        "\n",
        "# 1. Train model\n",
        "model = RandomForestClassifier(random_state=42)\n",
        "model.fit(X_train, y_train)\n",
        "\n",
        "# Lưu mô hình vào file\n",
        "joblib.dump(model, 'random_forest_model_ver0-2-full.joblib')"
      ]
    },
    {
      "cell_type": "markdown",
      "metadata": {
        "id": "kFNcwZ7YVCh4"
      },
      "source": [
        "### Print Report Classification_report"
      ]
    },
    {
      "cell_type": "code",
      "execution_count": null,
      "metadata": {
        "id": "3glLqe2y5pI2"
      },
      "outputs": [],
      "source": [
        "del loaded_model"
      ]
    },
    {
      "cell_type": "code",
      "execution_count": null,
      "metadata": {
        "colab": {
          "base_uri": "https://localhost:8080/"
        },
        "id": "Smsz-NXNUXsh",
        "outputId": "1bd052a8-88c5-4eb6-906c-53e160439648"
      },
      "outputs": [
        {
          "name": "stdout",
          "output_type": "stream",
          "text": [
            "                         precision    recall  f1-score   support\n",
            "\n",
            "       Backdoor_Malware       0.81      0.04      0.08       422\n",
            "          BenignTraffic       0.38      0.36      0.37     16743\n",
            "       BrowserHijacking       0.89      0.04      0.08       791\n",
            "       CommandInjection       0.88      0.24      0.37       812\n",
            " DDoS-ACK_Fragmentation       0.99      0.99      0.99     16901\n",
            "        DDoS-HTTP_Flood       0.98      0.89      0.93      4207\n",
            "        DDoS-ICMP_Flood       1.00      1.00      1.00     16750\n",
            "DDoS-ICMP_Fragmentation       0.99      0.98      0.99     16668\n",
            "      DDoS-PSHACK_Flood       1.00      1.00      1.00     16871\n",
            "       DDoS-RSTFINFlood       1.00      1.00      1.00     16752\n",
            "         DDoS-SYN_Flood       0.99      0.90      0.94     16921\n",
            "         DDoS-SlowLoris       0.83      0.98      0.90      3335\n",
            "DDoS-SynonymousIP_Flood       0.99      0.95      0.97     16810\n",
            "         DDoS-TCP_Flood       1.00      0.90      0.95     16819\n",
            "         DDoS-UDP_Flood       1.00      0.90      0.95     16852\n",
            " DDoS-UDP_Fragmentation       1.00      0.98      0.99     16585\n",
            "           DNS_Spoofing       0.62      0.70      0.66     16547\n",
            "   DictionaryBruteForce       0.70      0.13      0.22      1791\n",
            "         DoS-HTTP_Flood       0.95      0.99      0.97     10109\n",
            "          DoS-SYN_Flood       0.87      0.98      0.92     16570\n",
            "          DoS-TCP_Flood       0.91      1.00      0.95     16927\n",
            "          DoS-UDP_Flood       0.91      1.00      0.95     16756\n",
            "       MITM-ArpSpoofing       0.47      0.87      0.61     16771\n",
            "     Mirai-greeth_flood       0.94      0.98      0.96     16956\n",
            "      Mirai-greip_flood       0.98      0.93      0.96     17033\n",
            "         Mirai-udpplain       1.00      0.99      1.00     16796\n",
            "    Recon-HostDiscovery       0.82      0.36      0.50     16828\n",
            "           Recon-OSScan       0.41      0.36      0.38     13854\n",
            "        Recon-PingSweep       0.93      0.04      0.07       337\n",
            "         Recon-PortScan       0.31      0.33      0.32     11704\n",
            "           SqlInjection       0.53      0.06      0.11       765\n",
            "       Uploading_Attack       0.82      0.05      0.10       169\n",
            "      VulnerabilityScan       0.93      0.97      0.95      5320\n",
            "                    XSS       0.43      0.08      0.14       556\n",
            "\n",
            "               accuracy                           0.85    390028\n",
            "              macro avg       0.83      0.68      0.68    390028\n",
            "           weighted avg       0.86      0.85      0.84    390028\n",
            "\n"
          ]
        }
      ],
      "source": [
        "# 2. Đánh giá trên tập test\n",
        "loaded_model = joblib.load('/content/drive/MyDrive/MLinCybersecurity/Model/random_forest_model_ver0-1.joblib')\n",
        "\n",
        "y_pred = loaded_model.predict(X_test)\n",
        "\n",
        "# Ánh xạ các chỉ số phân loại thành nhãn gốc\n",
        "mapped_y_pred = label_encoder.inverse_transform(y_pred)\n",
        "\n",
        "# Ánh xạ các nhãn thực tế thành nhãn gốc\n",
        "mapped_y_test = label_encoder.inverse_transform(y_test)\n",
        "\n",
        "# In báo cáo phân loại (classification report)\n",
        "report = classification_report(mapped_y_test, mapped_y_pred)\n",
        "print(report)"
      ]
    },
    {
      "cell_type": "markdown",
      "metadata": {
        "id": "eOXesXlz6nlj"
      },
      "source": [
        "##XGBOOST\n"
      ]
    },
    {
      "cell_type": "code",
      "execution_count": null,
      "metadata": {
        "colab": {
          "base_uri": "https://localhost:8080/"
        },
        "id": "5n6MjdYt6u-l",
        "outputId": "b0cb3d6c-4897-4c15-b956-bef0a8304c99"
      },
      "outputs": [
        {
          "name": "stdout",
          "output_type": "stream",
          "text": [
            "Requirement already satisfied: xgboost in /usr/local/lib/python3.10/dist-packages (2.1.2)\n",
            "Requirement already satisfied: numpy in /usr/local/lib/python3.10/dist-packages (from xgboost) (1.26.4)\n",
            "Requirement already satisfied: nvidia-nccl-cu12 in /usr/local/lib/python3.10/dist-packages (from xgboost) (2.23.4)\n",
            "Requirement already satisfied: scipy in /usr/local/lib/python3.10/dist-packages (from xgboost) (1.13.1)\n"
          ]
        }
      ],
      "source": [
        "!pip install xgboost\n"
      ]
    },
    {
      "cell_type": "markdown",
      "metadata": {
        "id": "SUusPMPa6nlj"
      },
      "source": [
        "Import các thư viện của XGBOOST"
      ]
    },
    {
      "cell_type": "code",
      "execution_count": null,
      "metadata": {
        "id": "5EXjKFa36nlk"
      },
      "outputs": [],
      "source": [
        "from xgboost import XGBClassifier\n",
        "from sklearn.metrics import accuracy_score, classification_report"
      ]
    },
    {
      "cell_type": "markdown",
      "metadata": {
        "id": "DyhYRQ1j6nlk"
      },
      "source": [
        "Train model và lưu dạng Joblib"
      ]
    },
    {
      "cell_type": "code",
      "execution_count": null,
      "metadata": {
        "colab": {
          "base_uri": "https://localhost:8080/"
        },
        "id": "Slc1TfJz6nlk",
        "outputId": "a4b1a961-b88f-42a8-96b7-ad2545da4222"
      },
      "outputs": [
        {
          "name": "stderr",
          "output_type": "stream",
          "text": [
            "/usr/local/lib/python3.10/dist-packages/xgboost/core.py:158: UserWarning: [14:12:14] WARNING: /workspace/src/learner.cc:740: \n",
            "Parameters: { \"ntrees\" } are not used.\n",
            "\n",
            "  warnings.warn(smsg, UserWarning)\n"
          ]
        },
        {
          "data": {
            "text/plain": [
              "['xgboost_model-ver0-2.joblib']"
            ]
          },
          "execution_count": 21,
          "metadata": {},
          "output_type": "execute_result"
        }
      ],
      "source": [
        "# Thiết lập các tham số cho XGBoost\n",
        "params = {\n",
        "    'objective': 'multi:softmax',  # Hoặc 'multi:softmax' nếu bạn phân loại nhiều lớp\n",
        "    'ntrees': 10,                    # Số lượng cây trong mô hình\n",
        "    'max_depth': 9,                  # Chiều sâu tối đa của mỗi cây\n",
        "    'eta': 0.1,                      # Learning rate (tỷ lệ học)\n",
        "    'subsample': 0.9,                # Tỷ lệ mẫu (sample rate)\n",
        "    'gamma': 0.001,                  # Điều chỉnh mức độ tách các nhánh\n",
        "    'lambda': 1.0,                   # Regularization term cho L2\n",
        "    'alpha': 1.0,                    # Regularization term cho L1\n",
        "    'eval_metric': 'logloss',        # Metric để đánh giá trong quá trình huấn luyện\n",
        "    'random_state': 42               # Đảm bảo tính tái lập kết quả\n",
        "}\n",
        "# Khởi tạo mô hình XGBoost\n",
        "# model_xgb = XGBClassifier(\n",
        "#     n_estimators=100,  # Số lượng cây\n",
        "#     learning_rate=0.1,\n",
        "#     max_depth=6,\n",
        "#     random_state=42\n",
        "# )\n",
        "model_xgb = XGBClassifier(**params)\n",
        "\n",
        "# Huấn luyện mô hình\n",
        "model_xgb.fit(X_train, y_train)\n",
        "# Lưu mô hình vào file\n",
        "joblib.dump(model_xgb, 'xgboost_model-ver0-2.joblib')"
      ]
    },
    {
      "cell_type": "markdown",
      "metadata": {
        "id": "SP0LkUzY6-GL"
      },
      "source": [
        "Xem mức độ quan trọng của các features"
      ]
    },
    {
      "cell_type": "code",
      "execution_count": null,
      "metadata": {
        "colab": {
          "base_uri": "https://localhost:8080/",
          "height": 472
        },
        "id": "5GWBQG6k7Azy",
        "outputId": "0c81c76b-b70d-47c1-b9f8-5075c3d6c9a4"
      },
      "outputs": [
        {
          "data": {
            "image/png": "[encoded data removed]",
            "text/plain": [
              "<Figure size 640x480 with 1 Axes>"
            ]
          },
          "metadata": {},
          "output_type": "display_data"
        }
      ],
      "source": [
        "import matplotlib.pyplot as plt\n",
        "from xgboost import plot_importance\n",
        "\n",
        "# Vẽ biểu đồ mức độ quan trọng\n",
        "plot_importance(model_xgb)\n",
        "plt.show()"
      ]
    },
    {
      "cell_type": "markdown",
      "metadata": {
        "id": "xqSWbNbz6nlk"
      },
      "source": [
        "### Print Report Classification_report"
      ]
    },
    {
      "cell_type": "code",
      "execution_count": null,
      "metadata": {
        "id": "GiicKasm6nlk"
      },
      "outputs": [],
      "source": [
        "del loaded_model"
      ]
    },
    {
      "cell_type": "code",
      "execution_count": null,
      "metadata": {
        "colab": {
          "base_uri": "https://localhost:8080/"
        },
        "id": "5uMSuEZ-6nlk",
        "outputId": "b724f7a1-8326-48a7-c8bd-eeb790142f53"
      },
      "outputs": [
        {
          "name": "stdout",
          "output_type": "stream",
          "text": [
            "                         precision    recall  f1-score   support\n",
            "\n",
            "       Backdoor_Malware       0.05      0.11      0.07      2050\n",
            "          BenignTraffic       0.49      0.28      0.36     75572\n",
            "       BrowserHijacking       0.00      0.04      0.01      3729\n",
            "       CommandInjection       0.10      0.33      0.16      3428\n",
            " DDoS-ACK_Fragmentation       0.99      0.98      0.99     75685\n",
            "        DDoS-HTTP_Flood       0.84      0.94      0.89     18366\n",
            "        DDoS-ICMP_Flood       1.00      1.00      1.00     75136\n",
            "DDoS-ICMP_Fragmentation       0.85      1.00      0.92     75817\n",
            "      DDoS-PSHACK_Flood       1.00      1.00      1.00     75718\n",
            "       DDoS-RSTFINFlood       0.98      1.00      0.99     75552\n",
            "         DDoS-SYN_Flood       0.71      0.57      0.63     75602\n",
            "         DDoS-SlowLoris       0.93      0.85      0.89     14901\n",
            "DDoS-SynonymousIP_Flood       1.00      0.67      0.80     75675\n",
            "         DDoS-TCP_Flood       0.96      0.67      0.79     75802\n",
            "         DDoS-UDP_Flood       0.76      0.90      0.83     75489\n",
            " DDoS-UDP_Fragmentation       0.81      0.99      0.89     75414\n",
            "           DNS_Spoofing       0.59      0.56      0.57     75506\n",
            "   DictionaryBruteForce       0.03      0.14      0.04      8291\n",
            "         DoS-HTTP_Flood       0.89      0.99      0.94     45545\n",
            "          DoS-SYN_Flood       1.00      0.85      0.92     75543\n",
            "          DoS-TCP_Flood       0.74      1.00      0.85     75689\n",
            "          DoS-UDP_Flood       0.90      0.98      0.94     75843\n",
            "       MITM-ArpSpoofing       0.43      0.71      0.54     75660\n",
            "     Mirai-greeth_flood       1.00      0.99      0.99     75579\n",
            "      Mirai-greip_flood       0.99      0.99      0.99     75594\n",
            "         Mirai-udpplain       1.00      1.00      1.00     75220\n",
            "    Recon-HostDiscovery       0.52      0.12      0.20     75702\n",
            "           Recon-OSScan       0.37      0.19      0.25     62636\n",
            "        Recon-PingSweep       0.00      0.00      0.00      1458\n",
            "         Recon-PortScan       0.27      0.32      0.29     52578\n",
            "           SqlInjection       0.37      0.03      0.05      3356\n",
            "       Uploading_Attack       0.08      0.01      0.02       781\n",
            "      VulnerabilityScan       0.88      0.44      0.58     23794\n",
            "                    XSS       0.03      0.15      0.06      2414\n",
            "\n",
            "               accuracy                           0.77   1755125\n",
            "              macro avg       0.63      0.61      0.60   1755125\n",
            "           weighted avg       0.80      0.77      0.76   1755125\n",
            "\n"
          ]
        }
      ],
      "source": [
        "# 2. Đánh giá trên tập test\n",
        "loaded_model = joblib.load('/content/xgboost_model-ver0-2.joblib')\n",
        "\n",
        "y_pred = loaded_model.predict(X_test)\n",
        "\n",
        "# Ánh xạ các chỉ số phân loại thành nhãn gốc\n",
        "mapped_y_pred = label_encoder.inverse_transform(y_pred)\n",
        "\n",
        "# Ánh xạ các nhãn thực tế thành nhãn gốc\n",
        "mapped_y_test = label_encoder.inverse_transform(y_test)\n",
        "\n",
        "# In báo cáo phân loại (classification report)\n",
        "report = classification_report(mapped_y_test, mapped_y_pred)\n",
        "print(report)"
      ]
    },
    {
      "cell_type": "markdown",
      "metadata": {
        "id": "EAFzrp1m-Du4"
      },
      "source": [
        "##DeepLearning - UNDONE"
      ]
    },
    {
      "cell_type": "markdown",
      "metadata": {
        "id": "OqLB87Sd-Du5"
      },
      "source": [
        "Import các thư viện của Deeplearning\n"
      ]
    },
    {
      "cell_type": "code",
      "execution_count": null,
      "metadata": {
        "id": "5gnNc6v8-Du6"
      },
      "outputs": [],
      "source": [
        "import numpy as np\n",
        "from tensorflow.keras.models import Model, load_model\n",
        "from tensorflow.keras.layers import Input, Conv1D, MaxPooling1D, Flatten, Dense, Dropout\n",
        "from sklearn.model_selection import train_test_split\n",
        "from sklearn.preprocessing import LabelEncoder, StandardScaler\n",
        "from tensorflow.keras.utils import to_categorical\n",
        "from tensorflow.keras.callbacks import ReduceLROnPlateau\n",
        "import tensorflow as tf"
      ]
    },
    {
      "cell_type": "code",
      "execution_count": null,
      "metadata": {
        "id": "I6uxjtKotn20"
      },
      "outputs": [],
      "source": [
        "def build_conv1d_model(num_features=80, num_classes=10):\n",
        "    # Build Conv1D model using Functional API\n",
        "    inputs = Input(shape=(num_features, 1))\n",
        "    x = Conv1D(filters=128, kernel_size=3, activation='relu')(inputs)\n",
        "    x = MaxPooling1D(pool_size=2)(x)\n",
        "    x = Conv1D(filters=64, kernel_size=3, activation='relu')(x)\n",
        "    x = MaxPooling1D(pool_size=2)(x)\n",
        "    x = Flatten()(x)\n",
        "    x = Dense(128, activation='relu')(x)\n",
        "    x = Dropout(0.3)(x)\n",
        "    x = Dense(64, activation='relu')(x)\n",
        "    outputs = Dense(num_classes, activation='softmax')(x)  # classification\n",
        "\n",
        "    model = Model(inputs=inputs, outputs=outputs)\n",
        "    return model"
      ]
    },
    {
      "cell_type": "markdown",
      "metadata": {
        "id": "3oq1_fMV-Du7"
      },
      "source": [
        "Train model và lưu dạng keras"
      ]
    },
    {
      "cell_type": "code",
      "execution_count": null,
      "metadata": {
        "id": "VDFAKHC57Eab"
      },
      "outputs": [],
      "source": [
        "del model"
      ]
    },
    {
      "cell_type": "code",
      "execution_count": null,
      "metadata": {
        "id": "AD-zSPsByrVj"
      },
      "outputs": [],
      "source": [
        "# Định nghĩa ReduceLROnPlateau callback\n",
        "lr_reduction = ReduceLROnPlateau(monitor='val_loss',  # hoặc 'val_accuracy'\n",
        "                                 patience=3,  # Số epoch chờ đợi trước khi giảm learning rate\n",
        "                                 verbose=1,\n",
        "                                 factor=0.5,  # Giảm 50% learning rate\n",
        "                                 min_lr=1e-6)  # Giới hạn thấp nhất của learning rate"
      ]
    },
    {
      "cell_type": "code",
      "execution_count": null,
      "metadata": {
        "colab": {
          "base_uri": "https://localhost:8080/",
          "height": 449
        },
        "id": "BLL2A8WZ-Du8",
        "outputId": "dc7c347a-0056-481c-b949-e0a1a636708f"
      },
      "outputs": [
        {
          "data": {
            "text/html": [
              "<pre style=\"white-space:pre;overflow-x:auto;line-height:normal;font-family:Menlo,'DejaVu Sans Mono',consolas,'Courier New',monospace\"><span style=\"font-weight: bold\">Model: \"functional\"</span>\n",
              "</pre>\n"
            ],
            "text/plain": [
              "\u001b[1mModel: \"functional\"\u001b[0m\n"
            ]
          },
          "metadata": {},
          "output_type": "display_data"
        },
        {
          "data": {
            "text/html": [
              "<pre style=\"white-space:pre;overflow-x:auto;line-height:normal;font-family:Menlo,'DejaVu Sans Mono',consolas,'Courier New',monospace\">┏━━━━━━━━━━━━━━━━━━━━━━━━━━━━━━━━━━━━━━┳━━━━━━━━━━━━━━━━━━━━━━━━━━━━━┳━━━━━━━━━━━━━━━━━┓\n",
              "┃<span style=\"font-weight: bold\"> Layer (type)                         </span>┃<span style=\"font-weight: bold\"> Output Shape                </span>┃<span style=\"font-weight: bold\">         Param # </span>┃\n",
              "┡━━━━━━━━━━━━━━━━━━━━━━━━━━━━━━━━━━━━━━╇━━━━━━━━━━━━━━━━━━━━━━━━━━━━━╇━━━━━━━━━━━━━━━━━┩\n",
              "│ input_layer (<span style=\"color: #0087ff; text-decoration-color: #0087ff\">InputLayer</span>)             │ (<span style=\"color: #00d7ff; text-decoration-color: #00d7ff\">None</span>, <span style=\"color: #00af00; text-decoration-color: #00af00\">46</span>, <span style=\"color: #00af00; text-decoration-color: #00af00\">1</span>)               │               <span style=\"color: #00af00; text-decoration-color: #00af00\">0</span> │\n",
              "├──────────────────────────────────────┼─────────────────────────────┼─────────────────┤\n",
              "│ conv1d (<span style=\"color: #0087ff; text-decoration-color: #0087ff\">Conv1D</span>)                      │ (<span style=\"color: #00d7ff; text-decoration-color: #00d7ff\">None</span>, <span style=\"color: #00af00; text-decoration-color: #00af00\">44</span>, <span style=\"color: #00af00; text-decoration-color: #00af00\">128</span>)             │             <span style=\"color: #00af00; text-decoration-color: #00af00\">512</span> │\n",
              "├──────────────────────────────────────┼─────────────────────────────┼─────────────────┤\n",
              "│ max_pooling1d (<span style=\"color: #0087ff; text-decoration-color: #0087ff\">MaxPooling1D</span>)         │ (<span style=\"color: #00d7ff; text-decoration-color: #00d7ff\">None</span>, <span style=\"color: #00af00; text-decoration-color: #00af00\">22</span>, <span style=\"color: #00af00; text-decoration-color: #00af00\">128</span>)             │               <span style=\"color: #00af00; text-decoration-color: #00af00\">0</span> │\n",
              "├──────────────────────────────────────┼─────────────────────────────┼─────────────────┤\n",
              "│ conv1d_1 (<span style=\"color: #0087ff; text-decoration-color: #0087ff\">Conv1D</span>)                    │ (<span style=\"color: #00d7ff; text-decoration-color: #00d7ff\">None</span>, <span style=\"color: #00af00; text-decoration-color: #00af00\">20</span>, <span style=\"color: #00af00; text-decoration-color: #00af00\">64</span>)              │          <span style=\"color: #00af00; text-decoration-color: #00af00\">24,640</span> │\n",
              "├──────────────────────────────────────┼─────────────────────────────┼─────────────────┤\n",
              "│ max_pooling1d_1 (<span style=\"color: #0087ff; text-decoration-color: #0087ff\">MaxPooling1D</span>)       │ (<span style=\"color: #00d7ff; text-decoration-color: #00d7ff\">None</span>, <span style=\"color: #00af00; text-decoration-color: #00af00\">10</span>, <span style=\"color: #00af00; text-decoration-color: #00af00\">64</span>)              │               <span style=\"color: #00af00; text-decoration-color: #00af00\">0</span> │\n",
              "├──────────────────────────────────────┼─────────────────────────────┼─────────────────┤\n",
              "│ flatten (<span style=\"color: #0087ff; text-decoration-color: #0087ff\">Flatten</span>)                    │ (<span style=\"color: #00d7ff; text-decoration-color: #00d7ff\">None</span>, <span style=\"color: #00af00; text-decoration-color: #00af00\">640</span>)                 │               <span style=\"color: #00af00; text-decoration-color: #00af00\">0</span> │\n",
              "├──────────────────────────────────────┼─────────────────────────────┼─────────────────┤\n",
              "│ dense (<span style=\"color: #0087ff; text-decoration-color: #0087ff\">Dense</span>)                        │ (<span style=\"color: #00d7ff; text-decoration-color: #00d7ff\">None</span>, <span style=\"color: #00af00; text-decoration-color: #00af00\">128</span>)                 │          <span style=\"color: #00af00; text-decoration-color: #00af00\">82,048</span> │\n",
              "├──────────────────────────────────────┼─────────────────────────────┼─────────────────┤\n",
              "│ dropout (<span style=\"color: #0087ff; text-decoration-color: #0087ff\">Dropout</span>)                    │ (<span style=\"color: #00d7ff; text-decoration-color: #00d7ff\">None</span>, <span style=\"color: #00af00; text-decoration-color: #00af00\">128</span>)                 │               <span style=\"color: #00af00; text-decoration-color: #00af00\">0</span> │\n",
              "├──────────────────────────────────────┼─────────────────────────────┼─────────────────┤\n",
              "│ dense_1 (<span style=\"color: #0087ff; text-decoration-color: #0087ff\">Dense</span>)                      │ (<span style=\"color: #00d7ff; text-decoration-color: #00d7ff\">None</span>, <span style=\"color: #00af00; text-decoration-color: #00af00\">64</span>)                  │           <span style=\"color: #00af00; text-decoration-color: #00af00\">8,256</span> │\n",
              "├──────────────────────────────────────┼─────────────────────────────┼─────────────────┤\n",
              "│ dense_2 (<span style=\"color: #0087ff; text-decoration-color: #0087ff\">Dense</span>)                      │ (<span style=\"color: #00d7ff; text-decoration-color: #00d7ff\">None</span>, <span style=\"color: #00af00; text-decoration-color: #00af00\">34</span>)                  │           <span style=\"color: #00af00; text-decoration-color: #00af00\">2,210</span> │\n",
              "└──────────────────────────────────────┴─────────────────────────────┴─────────────────┘\n",
              "</pre>\n"
            ],
            "text/plain": [
              "┏━━━━━━━━━━━━━━━━━━━━━━━━━━━━━━━━━━━━━━┳━━━━━━━━━━━━━━━━━━━━━━━━━━━━━┳━━━━━━━━━━━━━━━━━┓\n",
              "┃\u001b[1m \u001b[0m\u001b[1mLayer (type)                        \u001b[0m\u001b[1m \u001b[0m┃\u001b[1m \u001b[0m\u001b[1mOutput Shape               \u001b[0m\u001b[1m \u001b[0m┃\u001b[1m \u001b[0m\u001b[1m        Param #\u001b[0m\u001b[1m \u001b[0m┃\n",
              "┡━━━━━━━━━━━━━━━━━━━━━━━━━━━━━━━━━━━━━━╇━━━━━━━━━━━━━━━━━━━━━━━━━━━━━╇━━━━━━━━━━━━━━━━━┩\n",
              "│ input_layer (\u001b[38;5;33mInputLayer\u001b[0m)             │ (\u001b[38;5;45mNone\u001b[0m, \u001b[38;5;34m46\u001b[0m, \u001b[38;5;34m1\u001b[0m)               │               \u001b[38;5;34m0\u001b[0m │\n",
              "├──────────────────────────────────────┼─────────────────────────────┼─────────────────┤\n",
              "│ conv1d (\u001b[38;5;33mConv1D\u001b[0m)                      │ (\u001b[38;5;45mNone\u001b[0m, \u001b[38;5;34m44\u001b[0m, \u001b[38;5;34m128\u001b[0m)             │             \u001b[38;5;34m512\u001b[0m │\n",
              "├──────────────────────────────────────┼─────────────────────────────┼─────────────────┤\n",
              "│ max_pooling1d (\u001b[38;5;33mMaxPooling1D\u001b[0m)         │ (\u001b[38;5;45mNone\u001b[0m, \u001b[38;5;34m22\u001b[0m, \u001b[38;5;34m128\u001b[0m)             │               \u001b[38;5;34m0\u001b[0m │\n",
              "├──────────────────────────────────────┼─────────────────────────────┼─────────────────┤\n",
              "│ conv1d_1 (\u001b[38;5;33mConv1D\u001b[0m)                    │ (\u001b[38;5;45mNone\u001b[0m, \u001b[38;5;34m20\u001b[0m, \u001b[38;5;34m64\u001b[0m)              │          \u001b[38;5;34m24,640\u001b[0m │\n",
              "├──────────────────────────────────────┼─────────────────────────────┼─────────────────┤\n",
              "│ max_pooling1d_1 (\u001b[38;5;33mMaxPooling1D\u001b[0m)       │ (\u001b[38;5;45mNone\u001b[0m, \u001b[38;5;34m10\u001b[0m, \u001b[38;5;34m64\u001b[0m)              │               \u001b[38;5;34m0\u001b[0m │\n",
              "├──────────────────────────────────────┼─────────────────────────────┼─────────────────┤\n",
              "│ flatten (\u001b[38;5;33mFlatten\u001b[0m)                    │ (\u001b[38;5;45mNone\u001b[0m, \u001b[38;5;34m640\u001b[0m)                 │               \u001b[38;5;34m0\u001b[0m │\n",
              "├──────────────────────────────────────┼─────────────────────────────┼─────────────────┤\n",
              "│ dense (\u001b[38;5;33mDense\u001b[0m)                        │ (\u001b[38;5;45mNone\u001b[0m, \u001b[38;5;34m128\u001b[0m)                 │          \u001b[38;5;34m82,048\u001b[0m │\n",
              "├──────────────────────────────────────┼─────────────────────────────┼─────────────────┤\n",
              "│ dropout (\u001b[38;5;33mDropout\u001b[0m)                    │ (\u001b[38;5;45mNone\u001b[0m, \u001b[38;5;34m128\u001b[0m)                 │               \u001b[38;5;34m0\u001b[0m │\n",
              "├──────────────────────────────────────┼─────────────────────────────┼─────────────────┤\n",
              "│ dense_1 (\u001b[38;5;33mDense\u001b[0m)                      │ (\u001b[38;5;45mNone\u001b[0m, \u001b[38;5;34m64\u001b[0m)                  │           \u001b[38;5;34m8,256\u001b[0m │\n",
              "├──────────────────────────────────────┼─────────────────────────────┼─────────────────┤\n",
              "│ dense_2 (\u001b[38;5;33mDense\u001b[0m)                      │ (\u001b[38;5;45mNone\u001b[0m, \u001b[38;5;34m34\u001b[0m)                  │           \u001b[38;5;34m2,210\u001b[0m │\n",
              "└──────────────────────────────────────┴─────────────────────────────┴─────────────────┘\n"
            ]
          },
          "metadata": {},
          "output_type": "display_data"
        },
        {
          "data": {
            "text/html": [
              "<pre style=\"white-space:pre;overflow-x:auto;line-height:normal;font-family:Menlo,'DejaVu Sans Mono',consolas,'Courier New',monospace\"><span style=\"font-weight: bold\"> Total params: </span><span style=\"color: #00af00; text-decoration-color: #00af00\">117,666</span> (459.63 KB)\n",
              "</pre>\n"
            ],
            "text/plain": [
              "\u001b[1m Total params: \u001b[0m\u001b[38;5;34m117,666\u001b[0m (459.63 KB)\n"
            ]
          },
          "metadata": {},
          "output_type": "display_data"
        },
        {
          "data": {
            "text/html": [
              "<pre style=\"white-space:pre;overflow-x:auto;line-height:normal;font-family:Menlo,'DejaVu Sans Mono',consolas,'Courier New',monospace\"><span style=\"font-weight: bold\"> Trainable params: </span><span style=\"color: #00af00; text-decoration-color: #00af00\">117,666</span> (459.63 KB)\n",
              "</pre>\n"
            ],
            "text/plain": [
              "\u001b[1m Trainable params: \u001b[0m\u001b[38;5;34m117,666\u001b[0m (459.63 KB)\n"
            ]
          },
          "metadata": {},
          "output_type": "display_data"
        },
        {
          "data": {
            "text/html": [
              "<pre style=\"white-space:pre;overflow-x:auto;line-height:normal;font-family:Menlo,'DejaVu Sans Mono',consolas,'Courier New',monospace\"><span style=\"font-weight: bold\"> Non-trainable params: </span><span style=\"color: #00af00; text-decoration-color: #00af00\">0</span> (0.00 B)\n",
              "</pre>\n"
            ],
            "text/plain": [
              "\u001b[1m Non-trainable params: \u001b[0m\u001b[38;5;34m0\u001b[0m (0.00 B)\n"
            ]
          },
          "metadata": {},
          "output_type": "display_data"
        }
      ],
      "source": [
        "model = build_conv1d_model(46,34)\n",
        "model.compile(optimizer=tf.keras.optimizers.Adam(learning_rate=0.0001), loss='sparse_categorical_crossentropy',\n",
        "              metrics=['accuracy'])\n",
        "model.summary()\n"
      ]
    },
    {
      "cell_type": "code",
      "execution_count": null,
      "metadata": {
        "colab": {
          "background_save": true,
          "base_uri": "https://localhost:8080/"
        },
        "id": "cpdg_g07yPvL",
        "outputId": "3f52d57d-a11f-4769-beb1-6d4693f87079"
      },
      "outputs": [
        {
          "name": "stdout",
          "output_type": "stream",
          "text": [
            "Epoch 1/50\n",
            "\u001b[1m3394/3394\u001b[0m \u001b[32m━━━━━━━━━━━━━━━━━━━━\u001b[0m\u001b[37m\u001b[0m \u001b[1m336s\u001b[0m 98ms/step - accuracy: 0.5154 - loss: 1.4582 - val_accuracy: 0.6755 - val_loss: 0.7509 - learning_rate: 1.0000e-04\n",
            "Epoch 2/50\n",
            "\u001b[1m3394/3394\u001b[0m \u001b[32m━━━━━━━━━━━━━━━━━━━━\u001b[0m\u001b[37m\u001b[0m \u001b[1m381s\u001b[0m 98ms/step - accuracy: 0.6667 - loss: 0.7768 - val_accuracy: 0.6926 - val_loss: 0.7088 - learning_rate: 1.0000e-04\n",
            "Epoch 3/50\n",
            "\u001b[1m3394/3394\u001b[0m \u001b[32m━━━━━━━━━━━━━━━━━━━━\u001b[0m\u001b[37m\u001b[0m \u001b[1m385s\u001b[0m 99ms/step - accuracy: 0.6831 - loss: 0.7353 - val_accuracy: 0.7020 - val_loss: 0.6854 - learning_rate: 1.0000e-04\n",
            "Epoch 4/50\n",
            "\u001b[1m3394/3394\u001b[0m \u001b[32m━━━━━━━━━━━━━━━━━━━━\u001b[0m\u001b[37m\u001b[0m \u001b[1m330s\u001b[0m 97ms/step - accuracy: 0.6953 - loss: 0.7120 - val_accuracy: 0.7236 - val_loss: 0.6736 - learning_rate: 1.0000e-04\n",
            "Epoch 5/50\n",
            "\u001b[1m3394/3394\u001b[0m \u001b[32m━━━━━━━━━━━━━━━━━━━━\u001b[0m\u001b[37m\u001b[0m \u001b[1m382s\u001b[0m 97ms/step - accuracy: 0.7049 - loss: 0.6966 - val_accuracy: 0.7161 - val_loss: 0.6566 - learning_rate: 1.0000e-04\n",
            "Epoch 6/50\n",
            "\u001b[1m3394/3394\u001b[0m \u001b[32m━━━━━━━━━━━━━━━━━━━━\u001b[0m\u001b[37m\u001b[0m \u001b[1m385s\u001b[0m 98ms/step - accuracy: 0.7160 - loss: 0.6825 - val_accuracy: 0.7405 - val_loss: 0.6429 - learning_rate: 1.0000e-04\n",
            "Epoch 7/50\n",
            "\u001b[1m3394/3394\u001b[0m \u001b[32m━━━━━━━━━━━━━━━━━━━━\u001b[0m\u001b[37m\u001b[0m \u001b[1m378s\u001b[0m 97ms/step - accuracy: 0.7260 - loss: 0.6662 - val_accuracy: 0.7476 - val_loss: 0.6263 - learning_rate: 1.0000e-04\n",
            "Epoch 8/50\n",
            "\u001b[1m3394/3394\u001b[0m \u001b[32m━━━━━━━━━━━━━━━━━━━━\u001b[0m\u001b[37m\u001b[0m \u001b[1m382s\u001b[0m 97ms/step - accuracy: 0.7340 - loss: 0.6510 - val_accuracy: 0.7479 - val_loss: 0.6170 - learning_rate: 1.0000e-04\n",
            "Epoch 9/50\n",
            "\u001b[1m3394/3394\u001b[0m \u001b[32m━━━━━━━━━━━━━━━━━━━━\u001b[0m\u001b[37m\u001b[0m \u001b[1m331s\u001b[0m 98ms/step - accuracy: 0.7395 - loss: 0.6384 - val_accuracy: 0.7540 - val_loss: 0.5995 - learning_rate: 1.0000e-04\n",
            "Epoch 10/50\n",
            "\u001b[1m3394/3394\u001b[0m \u001b[32m━━━━━━━━━━━━━━━━━━━━\u001b[0m\u001b[37m\u001b[0m \u001b[1m333s\u001b[0m 98ms/step - accuracy: 0.7442 - loss: 0.6256 - val_accuracy: 0.7584 - val_loss: 0.5899 - learning_rate: 1.0000e-04\n",
            "Epoch 11/50\n",
            "\u001b[1m3394/3394\u001b[0m \u001b[32m━━━━━━━━━━━━━━━━━━━━\u001b[0m\u001b[37m\u001b[0m \u001b[1m379s\u001b[0m 97ms/step - accuracy: 0.7470 - loss: 0.6180 - val_accuracy: 0.7624 - val_loss: 0.5814 - learning_rate: 1.0000e-04\n",
            "Epoch 12/50\n",
            "\u001b[1m3394/3394\u001b[0m \u001b[32m━━━━━━━━━━━━━━━━━━━━\u001b[0m\u001b[37m\u001b[0m \u001b[1m374s\u001b[0m 95ms/step - accuracy: 0.7487 - loss: 0.6123 - val_accuracy: 0.7627 - val_loss: 0.5769 - learning_rate: 1.0000e-04\n",
            "Epoch 13/50\n",
            "\u001b[1m3394/3394\u001b[0m \u001b[32m━━━━━━━━━━━━━━━━━━━━\u001b[0m\u001b[37m\u001b[0m \u001b[1m383s\u001b[0m 96ms/step - accuracy: 0.7523 - loss: 0.6050 - val_accuracy: 0.7675 - val_loss: 0.5736 - learning_rate: 1.0000e-04\n",
            "Epoch 14/50\n",
            "\u001b[1m3394/3394\u001b[0m \u001b[32m━━━━━━━━━━━━━━━━━━━━\u001b[0m\u001b[37m\u001b[0m \u001b[1m379s\u001b[0m 95ms/step - accuracy: 0.7532 - loss: 0.6001 - val_accuracy: 0.7723 - val_loss: 0.5681 - learning_rate: 1.0000e-04\n",
            "Epoch 15/50\n",
            "\u001b[1m3394/3394\u001b[0m \u001b[32m━━━━━━━━━━━━━━━━━━━━\u001b[0m\u001b[37m\u001b[0m \u001b[1m320s\u001b[0m 94ms/step - accuracy: 0.7560 - loss: 0.5955 - val_accuracy: 0.7726 - val_loss: 0.5651 - learning_rate: 1.0000e-04\n",
            "Epoch 16/50\n",
            "\u001b[1m3394/3394\u001b[0m \u001b[32m━━━━━━━━━━━━━━━━━━━━\u001b[0m\u001b[37m\u001b[0m \u001b[1m320s\u001b[0m 94ms/step - accuracy: 0.7570 - loss: 0.5933 - val_accuracy: 0.7902 - val_loss: 0.5579 - learning_rate: 1.0000e-04\n",
            "Epoch 17/50\n",
            "\u001b[1m3394/3394\u001b[0m \u001b[32m━━━━━━━━━━━━━━━━━━━━\u001b[0m\u001b[37m\u001b[0m \u001b[1m324s\u001b[0m 94ms/step - accuracy: 0.7604 - loss: 0.5858 - val_accuracy: 0.7850 - val_loss: 0.5566 - learning_rate: 1.0000e-04\n",
            "Epoch 18/50\n",
            "\u001b[1m3394/3394\u001b[0m \u001b[32m━━━━━━━━━━━━━━━━━━━━\u001b[0m\u001b[37m\u001b[0m \u001b[1m326s\u001b[0m 96ms/step - accuracy: 0.7627 - loss: 0.5818 - val_accuracy: 0.7740 - val_loss: 0.5469 - learning_rate: 1.0000e-04\n",
            "Epoch 19/50\n",
            "\u001b[1m3394/3394\u001b[0m \u001b[32m━━━━━━━━━━━━━━━━━━━━\u001b[0m\u001b[37m\u001b[0m \u001b[1m320s\u001b[0m 94ms/step - accuracy: 0.7654 - loss: 0.5767 - val_accuracy: 0.7702 - val_loss: 0.5431 - learning_rate: 1.0000e-04\n",
            "Epoch 20/50\n",
            "\u001b[1m3394/3394\u001b[0m \u001b[32m━━━━━━━━━━━━━━━━━━━━\u001b[0m\u001b[37m\u001b[0m \u001b[1m321s\u001b[0m 94ms/step - accuracy: 0.7682 - loss: 0.5732 - val_accuracy: 0.7923 - val_loss: 0.5406 - learning_rate: 1.0000e-04\n",
            "Epoch 21/50\n",
            "\u001b[1m1380/3394\u001b[0m \u001b[32m━━━━━━━━\u001b[0m\u001b[37m━━━━━━━━━━━━\u001b[0m \u001b[1m3:06\u001b[0m 93ms/step - accuracy: 0.7718 - loss: 0.5681"
          ]
        }
      ],
      "source": [
        "#Train model\n",
        "model.fit(X_train, y_train, epochs=50, batch_size=512, validation_split=0.01,callbacks=[lr_reduction])\n",
        "model.save('conv1d_model_v2-100.keras')"
      ]
    },
    {
      "cell_type": "markdown",
      "metadata": {
        "id": "lnqvv1Pe-Du8"
      },
      "source": [
        "### Print Report Classification_report"
      ]
    },
    {
      "cell_type": "code",
      "execution_count": null,
      "metadata": {
        "colab": {
          "base_uri": "https://localhost:8080/",
          "height": 141
        },
        "id": "jcOodrSr-Du9",
        "outputId": "bbf11267-a0b3-4701-bcd0-9210999da01b"
      },
      "outputs": [
        {
          "ename": "NameError",
          "evalue": "name 'loaded_model' is not defined",
          "output_type": "error",
          "traceback": [
            "\u001b[0;31m---------------------------------------------------------------------------\u001b[0m",
            "\u001b[0;31mNameError\u001b[0m                                 Traceback (most recent call last)",
            "\u001b[0;32m<ipython-input-10-11a5c2d88daa>\u001b[0m in \u001b[0;36m<cell line: 1>\u001b[0;34m()\u001b[0m\n\u001b[0;32m----> 1\u001b[0;31m \u001b[0;32mdel\u001b[0m \u001b[0mloaded_model\u001b[0m\u001b[0;34m\u001b[0m\u001b[0;34m\u001b[0m\u001b[0m\n\u001b[0m",
            "\u001b[0;31mNameError\u001b[0m: name 'loaded_model' is not defined"
          ]
        }
      ],
      "source": [
        "del loaded_model"
      ]
    },
    {
      "cell_type": "code",
      "execution_count": null,
      "metadata": {
        "colab": {
          "base_uri": "https://localhost:8080/"
        },
        "id": "OvHYHsSu-Du9",
        "outputId": "eb2b4492-6909-49fd-8f1c-10c590139d9c"
      },
      "outputs": [
        {
          "name": "stdout",
          "output_type": "stream",
          "text": [
            "\u001b[1m6095/6095\u001b[0m \u001b[32m━━━━━━━━━━━━━━━━━━━━\u001b[0m\u001b[37m\u001b[0m \u001b[1m10s\u001b[0m 2ms/step\n"
          ]
        },
        {
          "name": "stderr",
          "output_type": "stream",
          "text": [
            "/usr/local/lib/python3.10/dist-packages/sklearn/metrics/_classification.py:1531: UndefinedMetricWarning: Precision is ill-defined and being set to 0.0 in labels with no predicted samples. Use `zero_division` parameter to control this behavior.\n",
            "  _warn_prf(average, modifier, f\"{metric.capitalize()} is\", len(result))\n",
            "/usr/local/lib/python3.10/dist-packages/sklearn/metrics/_classification.py:1531: UndefinedMetricWarning: Precision is ill-defined and being set to 0.0 in labels with no predicted samples. Use `zero_division` parameter to control this behavior.\n",
            "  _warn_prf(average, modifier, f\"{metric.capitalize()} is\", len(result))\n"
          ]
        },
        {
          "name": "stdout",
          "output_type": "stream",
          "text": [
            "                         precision    recall  f1-score   support\n",
            "\n",
            "       Backdoor_Malware       0.67      0.06      0.10       215\n",
            "          BenignTraffic       0.64      0.75      0.69      8404\n",
            "       BrowserHijacking       0.69      0.11      0.19       415\n",
            "       CommandInjection       0.76      0.21      0.32       395\n",
            " DDoS-ACK_Fragmentation       0.98      0.99      0.98      8385\n",
            "        DDoS-HTTP_Flood       0.90      0.80      0.84      2061\n",
            "        DDoS-ICMP_Flood       1.00      1.00      1.00      8291\n",
            "DDoS-ICMP_Fragmentation       0.99      0.98      0.98      8474\n",
            "      DDoS-PSHACK_Flood       1.00      1.00      1.00      8485\n",
            "       DDoS-RSTFINFlood       1.00      1.00      1.00      8377\n",
            "         DDoS-SYN_Flood       0.93      0.98      0.96      8355\n",
            "         DDoS-SlowLoris       0.82      0.92      0.87      1619\n",
            "DDoS-SynonymousIP_Flood       0.99      0.96      0.98      8535\n",
            "         DDoS-TCP_Flood       0.95      0.99      0.97      8415\n",
            "         DDoS-UDP_Flood       0.97      0.98      0.97      8448\n",
            " DDoS-UDP_Fragmentation       0.99      0.98      0.98      8378\n",
            "           DNS_Spoofing       0.54      0.62      0.58      8319\n",
            "   DictionaryBruteForce       0.85      0.16      0.27       908\n",
            "         DoS-HTTP_Flood       0.91      0.95      0.93      4971\n",
            "          DoS-SYN_Flood       0.98      0.94      0.96      8377\n",
            "          DoS-TCP_Flood       0.99      0.95      0.97      8267\n",
            "          DoS-UDP_Flood       0.98      0.97      0.97      8500\n",
            "       MITM-ArpSpoofing       0.77      0.61      0.68      8556\n",
            "     Mirai-greeth_flood       0.98      0.95      0.97      8412\n",
            "      Mirai-greip_flood       0.96      0.97      0.96      8316\n",
            "         Mirai-udpplain       1.00      0.99      1.00      8444\n",
            "    Recon-HostDiscovery       0.64      0.82      0.72      8405\n",
            "           Recon-OSScan       0.48      0.40      0.44      6843\n",
            "        Recon-PingSweep       0.00      0.00      0.00       165\n",
            "         Recon-PortScan       0.46      0.49      0.48      5866\n",
            "           SqlInjection       0.51      0.05      0.10       369\n",
            "       Uploading_Attack       0.00      0.00      0.00        72\n",
            "      VulnerabilityScan       0.89      0.96      0.92      2697\n",
            "                    XSS       0.16      0.01      0.02       275\n",
            "\n",
            "               accuracy                           0.88    195014\n",
            "              macro avg       0.78      0.69      0.70    195014\n",
            "           weighted avg       0.88      0.88      0.87    195014\n",
            "\n"
          ]
        },
        {
          "name": "stderr",
          "output_type": "stream",
          "text": [
            "/usr/local/lib/python3.10/dist-packages/sklearn/metrics/_classification.py:1531: UndefinedMetricWarning: Precision is ill-defined and being set to 0.0 in labels with no predicted samples. Use `zero_division` parameter to control this behavior.\n",
            "  _warn_prf(average, modifier, f\"{metric.capitalize()} is\", len(result))\n"
          ]
        }
      ],
      "source": [
        "# 2. Đánh giá trên tập test\n",
        "loaded_model = load_model('/content/conv1d_model_v2-100.keras')\n",
        "y_pred_prob = loaded_model.predict(X_test)  # Get predicted probabilities\n",
        "\n",
        "y_pred = np.argmax(y_pred_prob, axis=1)  # Get predicted labels\n",
        "# Ánh xạ các chỉ số phân loại thành nhãn gốc\n",
        "mapped_y_pred = label_encoder.inverse_transform(y_pred)\n",
        "\n",
        "# Ánh xạ các nhãn thực tế thành nhãn gốc\n",
        "mapped_y_test = label_encoder.inverse_transform(y_test)\n",
        "\n",
        "# In báo cáo phân loại (classification report)\n",
        "report = classification_report(mapped_y_test, mapped_y_pred)\n",
        "print(report)"
      ]
    },
    {
      "cell_type": "code",
      "execution_count": null,
      "metadata": {
        "colab": {
          "base_uri": "https://localhost:8080/"
        },
        "id": "kzNaLLU-4k6V",
        "outputId": "0d83c057-5256-49f1-e905-54c6bc8b6fa9"
      },
      "outputs": [
        {
          "name": "stdout",
          "output_type": "stream",
          "text": [
            "Model information saved to model_layers.json\n"
          ]
        }
      ],
      "source": [
        "import json\n",
        "from tensorflow.keras.models import Sequential\n",
        "from tensorflow.keras.layers import InputLayer, Conv2D, MaxPooling2D, Dense, Flatten\n",
        "# Hàm trích xuất thông tin layers\n",
        "def extract_model_info(model):\n",
        "    layers_info = []\n",
        "    for layer in model.layers:\n",
        "        layer_info = {\n",
        "            \"name\": layer.__class__.__name__,\n",
        "            \"input_shape\": layer.input_shape if hasattr(layer, 'input_shape') else None,\n",
        "            \"output_shape\": layer.output_shape if hasattr(layer, 'output_shape') else None,\n",
        "            \"num_params\": layer.count_params(),\n",
        "            \"config\": layer.get_config()\n",
        "        }\n",
        "        layers_info.append(layer_info)\n",
        "    return layers_info\n",
        "\n",
        "# Trích xuất thông tin mô hình\n",
        "model_info = {\n",
        "    \"model_name\": \"example_model\",\n",
        "    \"layers\": extract_model_info(model)\n",
        "}\n",
        "\n",
        "# Lưu thông tin vào file JSON\n",
        "with open(\"model_layers.json\", \"w\") as json_file:\n",
        "    json.dump(model_info, json_file, indent=4)\n",
        "\n",
        "print(\"Model information saved to model_layers.json\")"
      ]
    }
  ],
  "metadata": {
    "accelerator": "GPU",
    "colab": {
      "gpuType": "T4",
      "provenance": []
    },
    "kernelspec": {
      "display_name": "Python 3",
      "name": "python3"
    },
    "language_info": {
      "name": "python"
    }
  },
  "nbformat": 4,
  "nbformat_minor": 0
}